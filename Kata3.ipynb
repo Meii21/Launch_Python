{
 "cells": [
  {
   "cell_type": "markdown",
   "metadata": {},
   "source": [
    "# El asteoride"
   ]
  },
  {
   "cell_type": "code",
   "execution_count": 2,
   "metadata": {},
   "outputs": [
    {
     "name": "stdout",
     "output_type": "stream",
     "text": [
      "¡Peligro! Un asteroide se acerca rapidamente a la tierra :(\n"
     ]
    }
   ],
   "source": [
    "velocidad_asteroide = 49\n",
    "\n",
    "if velocidad_asteroide >= 25:\n",
    "    print(\"¡Peligro! Un asteroide se acerca rapidamente a la tierra :(\")\n",
    "else:\n",
    "    print(\"Que tengas un buen día!\")"
   ]
  },
  {
   "cell_type": "code",
   "execution_count": 26,
   "metadata": {},
   "outputs": [
    {
     "name": "stdout",
     "output_type": "stream",
     "text": [
      "Un asteroide se esta acercando, tranquilo, aún no lo podrás ver\n"
     ]
    }
   ],
   "source": [
    "asteroide_llegando = 19\n",
    "\n",
    "if asteroide_llegando > 20:\n",
    "    print(\"Un asteroide se acerca, ¡mira hacia arriba, verás un rayo de luz!\")\n",
    "elif asteroide_llegando == 20:\n",
    "    print(\"Un asteroide se acerca, mira hacia arriba es probable que lo veas\")\n",
    "else:\n",
    "    print(\"Un asteroide se esta acercando, tranquilx, aún no lo podrás ver\")\n"
   ]
  },
  {
   "cell_type": "code",
   "execution_count": 27,
   "metadata": {},
   "outputs": [
    {
     "name": "stdout",
     "output_type": "stream",
     "text": [
      "Un asteroide se acerca, ¡mira hacia arriba, verás un rayo de luz!\n"
     ]
    }
   ],
   "source": [
    "medida_asteroide = 40\n",
    "velocidad_asteroide = 25\n",
    "\n",
    "if velocidad_asteroide > 25 and medida_asteroide > 25:\n",
    "    print(\"¡Alerta! Un asteroide se acerca peligrosamente a la tierra\")\n",
    "elif velocidad_asteroide >= 20:\n",
    "    print(\"Un asteroide se acerca, ¡mira hacia arriba, verás un rayo de luz!\")\n",
    "elif medida_asteroide < 25:\n",
    "    print(\"Un asteroide se esta acercando, tranquilx, aún no lo podrás ver\")\n",
    "else:\n",
    "    print(\"Que tengas un bien día\")"
   ]
  }
 ],
 "metadata": {
  "interpreter": {
   "hash": "1d40299ea2af74781280724ae5f3b1eef518ca1bf6c8931c9640474bba8197b5"
  },
  "kernelspec": {
   "display_name": "Python 3.10.2 64-bit",
   "language": "python",
   "name": "python3"
  },
  "language_info": {
   "codemirror_mode": {
    "name": "ipython",
    "version": 3
   },
   "file_extension": ".py",
   "mimetype": "text/x-python",
   "name": "python",
   "nbconvert_exporter": "python",
   "pygments_lexer": "ipython3",
   "version": "3.10.2"
  },
  "orig_nbformat": 4
 },
 "nbformat": 4,
 "nbformat_minor": 2
}
