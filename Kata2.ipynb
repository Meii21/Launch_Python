{
 "cells": [
  {
   "cell_type": "markdown",
   "metadata": {},
   "source": [
    "# Entorno virtual"
   ]
  },
  {
   "cell_type": "code",
   "execution_count": null,
   "metadata": {},
   "outputs": [],
   "source": [
    "Microsoft Windows [Versión 10.0.19044.1526]\n",
    "(c) Microsoft Corporation. Todos los derechos reservados.\n",
    "\n",
    "C:\\Users\\xavi1>python -m venv env\n",
    "\n",
    "C:\\Users\\xavi1>\n",
    "C:\\Users\\xavi1>\n",
    "C:\\Users\\xavi1>python -m venv env\n",
    "\n",
    "C:\\Users\\xavi1>env\\scripts\\activate\n",
    "\n",
    "(env) C:\\Users\\xavi1>\n",
    "(env) C:\\Users\\xavi1>pip freeze\n",
    "\n",
    "(env) C:\\Users\\xavi1>pip install python-dateutil\n",
    "Collecting python-dateutil\n",
    "  Using cached python_dateutil-2.8.2-py2.py3-none-any.whl (247 kB)\n",
    "Collecting six>=1.5\n",
    "  Using cached six-1.16.0-py2.py3-none-any.whl (11 kB)\n",
    "Installing collected packages: six, python-dateutil\n",
    "Successfully installed python-dateutil-2.8.2 six-1.16.0\n",
    "WARNING: You are using pip version 21.2.4; however, version 22.0.3 is available.\n",
    "You should consider upgrading via the 'C:\\Users\\xavi1\\env\\Scripts\\python.exe -m pip install --upgrade pip' command.\n",
    "\n",
    "(env) C:\\Users\\xavi1>pip freeze\n",
    "python-dateutil==2.8.2\n",
    "six==1.16.0\n",
    "\n",
    "(env) C:\\Users\\xavi1>deactivate\n",
    "C:\\Users\\xavi1>"
   ]
  }
 ],
 "metadata": {
  "language_info": {
   "name": "python"
  },
  "orig_nbformat": 4
 },
 "nbformat": 4,
 "nbformat_minor": 2
}
