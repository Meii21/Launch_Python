{
 "cells": [
  {
   "cell_type": "markdown",
   "metadata": {},
   "source": [
    "# Distancia entre planetas"
   ]
  },
  {
   "cell_type": "code",
   "execution_count": 12,
   "metadata": {},
   "outputs": [
    {
     "name": "stdout",
     "output_type": "stream",
     "text": [
      "La distancia entre los planetas es de: -628949330 km\n",
      "La distancia entre los planetas es de: -390577533.93 mi\n"
     ]
    }
   ],
   "source": [
    "Tierra = 149597870\n",
    "Júpiter = 778547200\n",
    "\n",
    "distance = Tierra - Júpiter\n",
    "print(f'La distancia entre los planetas es de: {distance} km')\n",
    "\n",
    "milla = distance*0.621\n",
    "print(f'La distancia entre los planetas es de: {milla} mi')"
   ]
  },
  {
   "cell_type": "code",
   "execution_count": 14,
   "metadata": {},
   "outputs": [
    {
     "ename": "ValueError",
     "evalue": "invalid literal for int() with base 10: ''",
     "output_type": "error",
     "traceback": [
      "\u001b[1;31m---------------------------------------------------------------------------\u001b[0m",
      "\u001b[1;31mValueError\u001b[0m                                Traceback (most recent call last)",
      "\u001b[1;32mc:\\Users\\xavi1\\Documents\\LaunchX\\Kata5.ipynb Cell 3'\u001b[0m in \u001b[0;36m<module>\u001b[1;34m\u001b[0m\n\u001b[0;32m      <a href='vscode-notebook-cell:/c%3A/Users/xavi1/Documents/LaunchX/Kata5.ipynb#ch0000003?line=1'>2</a>\u001b[0m planeta2 \u001b[39m=\u001b[39m \u001b[39minput\u001b[39m(\u001b[39m'\u001b[39m\u001b[39mIntroduzca la distancia desde el sol para el segundo planeta en KM\u001b[39m\u001b[39m'\u001b[39m)\n\u001b[0;32m      <a href='vscode-notebook-cell:/c%3A/Users/xavi1/Documents/LaunchX/Kata5.ipynb#ch0000003?line=3'>4</a>\u001b[0m planeta1 \u001b[39m=\u001b[39m \u001b[39mint\u001b[39m(planeta1)\n\u001b[1;32m----> <a href='vscode-notebook-cell:/c%3A/Users/xavi1/Documents/LaunchX/Kata5.ipynb#ch0000003?line=4'>5</a>\u001b[0m planeta2 \u001b[39m=\u001b[39m \u001b[39mint\u001b[39;49m(planeta2)\n\u001b[0;32m      <a href='vscode-notebook-cell:/c%3A/Users/xavi1/Documents/LaunchX/Kata5.ipynb#ch0000003?line=6'>7</a>\u001b[0m distancia_km \u001b[39m=\u001b[39m planeta1 \u001b[39m-\u001b[39m planeta2\n\u001b[0;32m      <a href='vscode-notebook-cell:/c%3A/Users/xavi1/Documents/LaunchX/Kata5.ipynb#ch0000003?line=7'>8</a>\u001b[0m \u001b[39mprint\u001b[39m(distancia_km)\n",
      "\u001b[1;31mValueError\u001b[0m: invalid literal for int() with base 10: ''"
     ]
    }
   ],
   "source": [
    "planeta1 = input('Introduzca la distancia del sol para el primer planeta en KM')\n",
    "planeta2 = input('Introduzca la distancia desde el sol para el segundo planeta en KM')\n",
    "\n",
    "planeta1 = int(planeta1)\n",
    "planeta2 = int(planeta2)\n",
    "\n",
    "distancia_km = planeta1 - planeta2\n",
    "print(distancia_km)\n",
    "\n",
    "distancia_mi = distancia_km * 0.621\n",
    "print(abs(distancia_mi))"
   ]
  }
 ],
 "metadata": {
  "interpreter": {
   "hash": "1d40299ea2af74781280724ae5f3b1eef518ca1bf6c8931c9640474bba8197b5"
  },
  "kernelspec": {
   "display_name": "Python 3.10.2 64-bit",
   "language": "python",
   "name": "python3"
  },
  "language_info": {
   "codemirror_mode": {
    "name": "ipython",
    "version": 3
   },
   "file_extension": ".py",
   "mimetype": "text/x-python",
   "name": "python",
   "nbconvert_exporter": "python",
   "pygments_lexer": "ipython3",
   "version": "3.10.2"
  },
  "orig_nbformat": 4
 },
 "nbformat": 4,
 "nbformat_minor": 2
}
